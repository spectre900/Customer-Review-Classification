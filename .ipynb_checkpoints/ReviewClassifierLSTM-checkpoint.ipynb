{
 "cells": [
  {
   "cell_type": "code",
   "execution_count": 1,
   "metadata": {},
   "outputs": [
    {
     "name": "stdout",
     "output_type": "stream",
     "text": [
      "Archive:  glove.6B.50d.zip\n",
      "  inflating: glove.6B.50d.txt        \n"
     ]
    }
   ],
   "source": [
    "!unzip glove.6B.50d.zip  # to extract word vectors"
   ]
  },
  {
   "cell_type": "code",
   "execution_count": 19,
   "metadata": {},
   "outputs": [],
   "source": [
    "import warnings\n",
    "warnings.filterwarnings('ignore',category=FutureWarning)\n",
    "\n",
    "import os                                         # importing required libraries\n",
    "import time\n",
    "import numpy as np\n",
    "import pandas as pd\n",
    "import pickle as pkl\n",
    "import tensorflow as tf\n",
    "import tensorflow.keras as k\n",
    "import matplotlib.pyplot as plt\n",
    "\n",
    "from tensorflow.keras import regularizers\n",
    "from tensorflow.keras.models import Sequential\n",
    "from tensorflow.keras.layers import Dense\n",
    "from tensorflow.keras.layers import LSTM\n",
    "from tensorflow.keras.layers import Embedding\n",
    "from tensorflow.keras.layers import Dropout"
   ]
  },
  {
   "cell_type": "code",
   "execution_count": 20,
   "metadata": {},
   "outputs": [],
   "source": [
    "def getVocab(filename,d_model): # to generate word-num-vector mapping using pre trained word vectors\n",
    "    \n",
    "    file = open(filename,'r')\n",
    "    \n",
    "    num     = 0\n",
    "    vocab_num_to_vector = {}\n",
    "    vocab_word_to_num   = {}\n",
    "    vocab_num_to_vector[num] = np.zeros((d_model))\n",
    "    vocab_word_to_num['ukn'] = num\n",
    "    num+=1\n",
    "\n",
    "    for lines in file:\n",
    "        values = lines.split()\n",
    "        word   = values[0]\n",
    "        vector = list(map(float,values[1:]))\n",
    "        vocab_num_to_vector[num] = np.array(vector)\n",
    "        vocab_word_to_num[word]  = num\n",
    "        num+=1\n",
    "    \n",
    "    return vocab_word_to_num,vocab_num_to_vector"
   ]
  },
  {
   "cell_type": "code",
   "execution_count": 21,
   "metadata": {},
   "outputs": [],
   "source": [
    "def getData(filenames,delimiter):   # extract data from all the files\n",
    "    \n",
    "    reviews = []\n",
    "    ratings = []\n",
    "    \n",
    "    for filename in filenames:\n",
    "        \n",
    "        file = open(filename,'r')\n",
    "        \n",
    "        for lines in file:\n",
    "            values=lines.split(delimiter)\n",
    "            reviews.append(values[0])\n",
    "            ratings.append(int(values[-1]))\n",
    "\n",
    "    data = list(zip(reviews,ratings))\n",
    "    np.random.shuffle(data)\n",
    "    reviews,ratings=zip(*data)\n",
    "\n",
    "    reviews = np.array(reviews)\n",
    "    ratings = np.array(ratings).reshape(-1,1).astype('float32')\n",
    "    \n",
    "    return reviews,ratings"
   ]
  },
  {
   "cell_type": "code",
   "execution_count": 22,
   "metadata": {},
   "outputs": [],
   "source": [
    "def removePunctuations(word):   # removing non-alphabetic letters (punctuations and numbers)\n",
    "    \n",
    "    word       = list(word)\n",
    "    clean_word = []\n",
    "    \n",
    "    for i in range(len(word)):\n",
    "        \n",
    "        if ord(word[i])>=97 and ord(word[i])<=122:\n",
    "            clean_word.append(word[i])\n",
    "            \n",
    "    return ''.join(clean_word)"
   ]
  },
  {
   "cell_type": "code",
   "execution_count": 23,
   "metadata": {},
   "outputs": [],
   "source": [
    "def cleanReviews(reviews,vocab_word_to_num):  # removing typoes and unknown words from reviews\n",
    "    \n",
    "    for i in range(len(reviews)):\n",
    "        review  = reviews[i]\n",
    "        words   = review.split()\n",
    "        clean_review = []\n",
    "        \n",
    "        for word in words:\n",
    "            word = word.lower()\n",
    "            word = removePunctuations(word)\n",
    "            if word not in vocab_word_to_num.keys():\n",
    "                clean_review.append('ukn')\n",
    "            else:\n",
    "                clean_review.append(word)\n",
    "        \n",
    "        clean_review = ' '.join(clean_review)\n",
    "        reviews[i]   = clean_review\n",
    "        \n",
    "    return reviews"
   ]
  },
  {
   "cell_type": "code",
   "execution_count": 24,
   "metadata": {},
   "outputs": [],
   "source": [
    "def tokenize(reviews,vocab_word_to_num,max_len): # tokenizing the review statements \n",
    "    \n",
    "    tokenized_reviews = np.zeros((len(reviews),max_len),dtype='int')\n",
    "    \n",
    "    for i in range(len(reviews)):\n",
    "        review = reviews[i]\n",
    "        review = review.split()\n",
    "        for j in range(len(review)):\n",
    "            tokenized_reviews[i][j] = vocab_word_to_num[review[j]]    \n",
    "        \n",
    "    return tokenized_reviews"
   ]
  },
  {
   "cell_type": "code",
   "execution_count": 25,
   "metadata": {},
   "outputs": [],
   "source": [
    "def load_embd_matrix(vocab_num_to_vector,vocab_size,d_model):  # get the embedding matrix\n",
    "    \n",
    "    embd_matrix = np.zeros((vocab_size,d_model))\n",
    "    \n",
    "    for i in range(vocab_size):\n",
    "        embd_matrix[i] = vocab_num_to_vector[i]\n",
    "        \n",
    "    return embd_matrix"
   ]
  },
  {
   "cell_type": "code",
   "execution_count": 26,
   "metadata": {},
   "outputs": [],
   "source": [
    "def model_def(embd_matrix,vocab_size,d_model,max_len):  # define the model \n",
    "    \n",
    "    model = Sequential()\n",
    "    model.add(Embedding(vocab_size,d_model,weights=[embd_matrix],input_length=max_len,trainable=True,mask_zero=True))\n",
    "    model.add(LSTM(200,dropout=0.5,kernel_regularizer=regularizers.l1_l2(l1=2e-5, l2=1e-4),bias_regularizer=regularizers.l2(1e-4),activity_regularizer=regularizers.l2(2e-5)))\n",
    "    model.add(Dense(100, activation='relu',kernel_regularizer=regularizers.l1_l2(l1=2e-5, l2=1e-4),bias_regularizer=regularizers.l2(1e-4),activity_regularizer=regularizers.l2(2e-5)))\n",
    "    model.add(Dropout(0.5))\n",
    "    model.add(Dense(1, activation='sigmoid'))\n",
    "    model.compile(loss='binary_crossentropy', optimizer='adam', metrics=['accuracy'])\n",
    "    \n",
    "    print(model.summary())\n",
    "    \n",
    "    return model"
   ]
  },
  {
   "cell_type": "code",
   "execution_count": 27,
   "metadata": {},
   "outputs": [],
   "source": [
    "def trainModel():  # training the model\n",
    "    vocab_word_to_num,vocab_num_to_vector = getVocab('glove.6B.50d.txt',50)\n",
    "    reviews,ratings = getData(['amazon.txt','yelp.txt','imdb.txt'],'\\t')\n",
    "    reviews     = cleanReviews(reviews,vocab_word_to_num)\n",
    "    reviews     = tokenize(reviews,vocab_word_to_num,100)\n",
    "    embd_matrix = load_embd_matrix(vocab_num_to_vector,len(vocab_word_to_num),len(vocab_num_to_vector[0]))\n",
    "    model       = model_def(embd_matrix,len(vocab_word_to_num),50,100)\n",
    "    \n",
    "    train_length= (int)(len(reviews)*0.9)\n",
    "    x_train     = reviews[:train_length,:]\n",
    "    x_test      = reviews[train_length:,:]\n",
    "    y_train     = ratings[:train_length:,:]\n",
    "    y_test      = ratings[train_length:,:]\n",
    "    \n",
    "    history     = model.fit(x_train, y_train, validation_data=(x_test, y_test), epochs=10, batch_size=256)\n",
    "    \n",
    "    return model,history\n",
    "    "
   ]
  },
  {
   "cell_type": "code",
   "execution_count": 28,
   "metadata": {},
   "outputs": [],
   "source": [
    "def plot(history):  # plotting the learning curve\n",
    "    \n",
    "    #  \"Accuracy\"\n",
    "    plt.plot(history.history['accuracy'])\n",
    "    plt.plot(history.history['val_accuracy'])\n",
    "    plt.title('model accuracy and loss')\n",
    "    plt.ylabel('accuracy')\n",
    "    plt.xlabel('epoch')\n",
    "    plt.legend(['train', 'validation'], loc='upper left')\n",
    "    plt.show()\n",
    "\n",
    "    # \"Loss\"\n",
    "    plt.plot(history.history['loss'])\n",
    "    plt.plot(history.history['val_loss'])\n",
    "    plt.title('model loss')\n",
    "    plt.ylabel('loss')\n",
    "    plt.xlabel('epoch')\n",
    "    plt.legend(['train', 'validation'], loc='upper left')\n",
    "    plt.show()"
   ]
  },
  {
   "cell_type": "code",
   "execution_count": 29,
   "metadata": {},
   "outputs": [
    {
     "name": "stdout",
     "output_type": "stream",
     "text": [
      "Model: \"sequential_2\"\n",
      "_________________________________________________________________\n",
      "Layer (type)                 Output Shape              Param #   \n",
      "=================================================================\n",
      "embedding_2 (Embedding)      (None, 100, 50)           20000050  \n",
      "_________________________________________________________________\n",
      "lstm_2 (LSTM)                (None, 200)               200800    \n",
      "_________________________________________________________________\n",
      "dense_4 (Dense)              (None, 100)               20100     \n",
      "_________________________________________________________________\n",
      "dropout_2 (Dropout)          (None, 100)               0         \n",
      "_________________________________________________________________\n",
      "dense_5 (Dense)              (None, 1)                 101       \n",
      "=================================================================\n",
      "Total params: 20,221,051\n",
      "Trainable params: 20,221,051\n",
      "Non-trainable params: 0\n",
      "_________________________________________________________________\n",
      "None\n",
      "Epoch 1/10\n",
      "11/11 [==============================] - 8s 726ms/step - loss: 0.7822 - accuracy: 0.5648 - val_loss: 0.7234 - val_accuracy: 0.7433\n",
      "Epoch 2/10\n",
      "11/11 [==============================] - 7s 673ms/step - loss: 0.7288 - accuracy: 0.6544 - val_loss: 0.6445 - val_accuracy: 0.7467\n",
      "Epoch 3/10\n",
      "11/11 [==============================] - 7s 658ms/step - loss: 0.6682 - accuracy: 0.7193 - val_loss: 0.6009 - val_accuracy: 0.7700\n",
      "Epoch 4/10\n",
      "11/11 [==============================] - 7s 661ms/step - loss: 0.6472 - accuracy: 0.7359 - val_loss: 0.6025 - val_accuracy: 0.7833\n",
      "Epoch 5/10\n",
      "11/11 [==============================] - 7s 656ms/step - loss: 0.6165 - accuracy: 0.7481 - val_loss: 0.5641 - val_accuracy: 0.7733\n",
      "Epoch 6/10\n",
      "11/11 [==============================] - 7s 654ms/step - loss: 0.6025 - accuracy: 0.7570 - val_loss: 0.5457 - val_accuracy: 0.7900\n",
      "Epoch 7/10\n",
      "11/11 [==============================] - 7s 675ms/step - loss: 0.5744 - accuracy: 0.7748 - val_loss: 0.5296 - val_accuracy: 0.8033\n",
      "Epoch 8/10\n",
      "11/11 [==============================] - 8s 684ms/step - loss: 0.5452 - accuracy: 0.7889 - val_loss: 0.5103 - val_accuracy: 0.8100\n",
      "Epoch 9/10\n",
      "11/11 [==============================] - 7s 677ms/step - loss: 0.5278 - accuracy: 0.7956 - val_loss: 0.4988 - val_accuracy: 0.8233\n",
      "Epoch 10/10\n",
      "11/11 [==============================] - 7s 660ms/step - loss: 0.5346 - accuracy: 0.7993 - val_loss: 0.4701 - val_accuracy: 0.8267\n"
     ]
    },
    {
     "data": {
      "image/png": "[encoded data removed]",
      "text/plain": [
       "<Figure size 432x288 with 1 Axes>"
      ]
     },
     "metadata": {
      "needs_background": "light"
     },
     "output_type": "display_data"
    },
    {
     "data": {
      "image/png": "[encoded data removed]",
      "text/plain": [
       "<Figure size 432x288 with 1 Axes>"
      ]
     },
     "metadata": {
      "needs_background": "light"
     },
     "output_type": "display_data"
    }
   ],
   "source": [
    "model,history = trainModel()\n",
    "plot(history)"
   ]
  },
  {
   "cell_type": "code",
   "execution_count": 30,
   "metadata": {},
   "outputs": [
    {
     "name": "stdout",
     "output_type": "stream",
     "text": [
      "Positive Review \n"
     ]
    }
   ],
   "source": [
    "vocab_word_to_num,vocab_num_to_vector = getVocab('glove.6B.50d.txt',50)\n",
    "\n",
    "review = \"This project was fun\"  # try a custom review\n",
    "review = np.array([review])\n",
    "review = cleanReviews(review,vocab_word_to_num)\n",
    "review = tokenize(review,vocab_word_to_num,100)\n",
    "print(\"Positive Review \" if round(model.predict(review)[0][0],0) else \"Negative Review \")"
   ]
  }
 ],
 "metadata": {
  "kernelspec": {
   "display_name": "Python 3",
   "language": "python",
   "name": "python3"
  },
  "language_info": {
   "codemirror_mode": {
    "name": "ipython",
    "version": 3
   },
   "file_extension": ".py",
   "mimetype": "text/x-python",
   "name": "python",
   "nbconvert_exporter": "python",
   "pygments_lexer": "ipython3",
   "version": "3.8.5"
  }
 },
 "nbformat": 4,
 "nbformat_minor": 4
}
