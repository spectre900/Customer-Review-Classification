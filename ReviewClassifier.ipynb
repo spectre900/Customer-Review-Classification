{
 "cells": [
  {
   "cell_type": "code",
   "execution_count": 1,
   "metadata": {},
   "outputs": [
    {
     "name": "stdout",
     "output_type": "stream",
     "text": [
      "Archive:  glove.6B.50d.zip\n",
      "  inflating: glove.6B.50d.txt        \n"
     ]
    }
   ],
   "source": [
    "!unzip glove.6B.50d.zip  # to extract word vectors"
   ]
  },
  {
   "cell_type": "code",
   "execution_count": 2,
   "metadata": {},
   "outputs": [],
   "source": [
    "import warnings\n",
    "warnings.filterwarnings('ignore',category=FutureWarning)\n",
    "\n",
    "import os                                         # importing required libraries\n",
    "import time\n",
    "import numpy as np\n",
    "import pandas as pd\n",
    "import pickle as pkl\n",
    "import matplotlib.pyplot as plt\n",
    "import tensorflow.keras.backend as K\n",
    "\n",
    "from tensorflow.keras import regularizers\n",
    "from tensorflow.keras.models import Sequential\n",
    "from tensorflow.keras.layers import Dense\n",
    "from tensorflow.keras.layers import LSTM\n",
    "from tensorflow.keras.layers import Embedding\n",
    "from tensorflow.keras.layers import Dropout\n",
    "from tensorflow.keras.layers import Layer\n",
    "from tensorflow.keras.layers import RNN"
   ]
  },
  {
   "cell_type": "code",
   "execution_count": 3,
   "metadata": {},
   "outputs": [],
   "source": [
    "def getVocab(filename,d_model): # to generate word-num-vector mapping using pre trained word vectors\n",
    "    \n",
    "    file = open(filename,'r')\n",
    "    \n",
    "    num     = 0\n",
    "    vocab_num_to_vector = {}\n",
    "    vocab_word_to_num   = {}\n",
    "    vocab_num_to_vector[num] = np.zeros((d_model))\n",
    "    vocab_word_to_num['ukn'] = num\n",
    "    num+=1\n",
    "\n",
    "    for lines in file:\n",
    "        values = lines.split()\n",
    "        word   = values[0]\n",
    "        vector = list(map(float,values[1:]))\n",
    "        vocab_num_to_vector[num] = np.array(vector)\n",
    "        vocab_word_to_num[word]  = num\n",
    "        num+=1\n",
    "    \n",
    "    return vocab_word_to_num,vocab_num_to_vector"
   ]
  },
  {
   "cell_type": "code",
   "execution_count": 4,
   "metadata": {},
   "outputs": [],
   "source": [
    "def getData(filenames,delimiter):   # extract data from all the files\n",
    "    \n",
    "    reviews = []\n",
    "    ratings = []\n",
    "    \n",
    "    for filename in filenames:\n",
    "        \n",
    "        file = open(filename,'r')\n",
    "        \n",
    "        for lines in file:\n",
    "            values=lines.split(delimiter)\n",
    "            reviews.append(values[0])\n",
    "            ratings.append(int(values[-1]))\n",
    "\n",
    "    data = list(zip(reviews,ratings))\n",
    "    np.random.shuffle(data)\n",
    "    reviews,ratings=zip(*data)\n",
    "\n",
    "    reviews = np.array(reviews)\n",
    "    ratings = np.array(ratings).reshape(-1,1).astype('float32')\n",
    "    \n",
    "    return reviews,ratings"
   ]
  },
  {
   "cell_type": "code",
   "execution_count": 5,
   "metadata": {},
   "outputs": [],
   "source": [
    "def removePunctuations(word):   # removing non-alphabetic letters (punctuations and numbers)\n",
    "    \n",
    "    word       = list(word)\n",
    "    clean_word = []\n",
    "    \n",
    "    for i in range(len(word)):\n",
    "        \n",
    "        if ord(word[i])>=97 and ord(word[i])<=122:\n",
    "            clean_word.append(word[i])\n",
    "            \n",
    "    return ''.join(clean_word)"
   ]
  },
  {
   "cell_type": "code",
   "execution_count": 6,
   "metadata": {},
   "outputs": [],
   "source": [
    "def cleanReviews(reviews,vocab_word_to_num):  # removing typoes and unknown words from reviews\n",
    "    \n",
    "    for i in range(len(reviews)):\n",
    "        review  = reviews[i]\n",
    "        words   = review.split()\n",
    "        clean_review = []\n",
    "        \n",
    "        for word in words:\n",
    "            word = word.lower()\n",
    "            word = removePunctuations(word)\n",
    "            if word not in vocab_word_to_num.keys():\n",
    "                clean_review.append('ukn')\n",
    "            else:\n",
    "                clean_review.append(word)\n",
    "        \n",
    "        clean_review = ' '.join(clean_review)\n",
    "        reviews[i]   = clean_review\n",
    "        \n",
    "    return reviews"
   ]
  },
  {
   "cell_type": "code",
   "execution_count": 7,
   "metadata": {},
   "outputs": [],
   "source": [
    "def tokenize(reviews,vocab_word_to_num,max_len): # tokenizing the review statements \n",
    "    \n",
    "    tokenized_reviews = np.zeros((len(reviews),max_len),dtype='int')\n",
    "    \n",
    "    for i in range(len(reviews)):\n",
    "        review = reviews[i]\n",
    "        review = review.split()\n",
    "        for j in range(len(review)):\n",
    "            tokenized_reviews[i][j] = vocab_word_to_num[review[j]]    \n",
    "        \n",
    "    return tokenized_reviews"
   ]
  },
  {
   "cell_type": "code",
   "execution_count": 8,
   "metadata": {},
   "outputs": [],
   "source": [
    "def load_embd_matrix(vocab_num_to_vector,vocab_size,d_model):  # get the embedding matrix\n",
    "    \n",
    "    embd_matrix = np.zeros((vocab_size,d_model))\n",
    "    \n",
    "    for i in range(vocab_size):\n",
    "        embd_matrix[i] = vocab_num_to_vector[i]\n",
    "        \n",
    "    return embd_matrix"
   ]
  },
  {
   "cell_type": "code",
   "execution_count": 9,
   "metadata": {},
   "outputs": [],
   "source": [
    "class customLSTM(Layer):\n",
    "\n",
    "    def __init__(self, units, **kwargs):\n",
    "        self.units = units\n",
    "        self.state_size = [units, units]\n",
    "        super(customLSTM, self).__init__(**kwargs)\n",
    "\n",
    "    def build(self, input_shape):\n",
    "        self.w_xi = self.add_weight(name='w_xi',shape=(input_shape[-1], self.units), initializer='glorot_normal')\n",
    "        self.w_xf = self.add_weight(name='w_xf',shape=(input_shape[-1], self.units), initializer='glorot_normal')\n",
    "        self.w_xo = self.add_weight(name='w_xo',shape=(input_shape[-1], self.units), initializer='glorot_normal')\n",
    "        self.w_xc = self.add_weight(name='w_xc',shape=(input_shape[-1], self.units), initializer='glorot_normal')\n",
    "        self.w_hi = self.add_weight(name='w_hi',shape=(self.units, self.units), initializer='glorot_normal')\n",
    "        self.w_hf = self.add_weight(name='w_hf',shape=(self.units, self.units), initializer='glorot_normal')\n",
    "        self.w_ho = self.add_weight(name='w_ho',shape=(self.units, self.units), initializer='glorot_normal')\n",
    "        self.w_hc = self.add_weight(name='w_hc',shape=(self.units, self.units), initializer='glorot_normal')\n",
    "        self.b_i = self.add_weight(name='b_i',shape=(1, self.units), initializer='zeros')\n",
    "        self.b_f = self.add_weight(name='b_f',shape=(1, self.units), initializer='zeros')\n",
    "        self.b_o = self.add_weight(name='b_o',shape=(1, self.units), initializer='zeros')\n",
    "        self.b_c = self.add_weight(name='b_c',shape=(1, self.units), initializer='zeros')\n",
    "\n",
    "        self.built = True\n",
    "\n",
    "    def call(self, x, states):\n",
    "        h, c = states\n",
    "        i = K.sigmoid(K.dot(x, self.w_xi) + K.dot(h, self.w_hi) + self.b_i)\n",
    "        f = K.sigmoid(K.dot(x, self.w_xf) + K.dot(h, self.w_hf) + self.b_f)\n",
    "        o = K.sigmoid(K.dot(x, self.w_xo) + K.dot(h, self.w_ho) + self.b_o)\n",
    "        c_in = K.tanh(K.dot(x, self.w_xc) + K.dot(h, self.w_hc) + self.b_c)\n",
    "        c_n = f * c + i * c_in\n",
    "        h_n = o * K.tanh(c_n)\n",
    "\n",
    "        return h_n, [h_n, c_n]"
   ]
  },
  {
   "cell_type": "code",
   "execution_count": 10,
   "metadata": {},
   "outputs": [],
   "source": [
    "def model_def(embd_matrix,vocab_size,d_model,max_len):  # define the model \n",
    "    \n",
    "    model = Sequential()\n",
    "    model.add(Embedding(vocab_size,d_model,weights=[embd_matrix],input_length=max_len,trainable=True,mask_zero=True))\n",
    "    model.add(RNN(customLSTM(d_model)))\n",
    "    model.add(Dense(d_model, activation='relu',kernel_regularizer=regularizers.l1_l2(l1=2e-5, l2=2e-4),bias_regularizer=regularizers.l2(2e-4),activity_regularizer=regularizers.l2(2e-5)))\n",
    "    model.add(Dropout(0.5))\n",
    "    model.add(Dense(1, activation='sigmoid'))\n",
    "    model.compile(loss='binary_crossentropy', optimizer='adam', metrics=['accuracy'])\n",
    "    \n",
    "    print(model.summary())\n",
    "    \n",
    "    return model"
   ]
  },
  {
   "cell_type": "code",
   "execution_count": 11,
   "metadata": {},
   "outputs": [],
   "source": [
    "def trainModel():  # training the model\n",
    "    vocab_word_to_num,vocab_num_to_vector = getVocab('glove.6B.50d.txt',50)\n",
    "    reviews,ratings = getData(['amazon.txt','yelp.txt','imdb.txt'],'\\t')\n",
    "    reviews     = cleanReviews(reviews,vocab_word_to_num)\n",
    "    reviews     = tokenize(reviews,vocab_word_to_num,100)\n",
    "    embd_matrix = load_embd_matrix(vocab_num_to_vector,len(vocab_word_to_num),len(vocab_num_to_vector[0]))\n",
    "    model       = model_def(embd_matrix,len(vocab_word_to_num),50,100)\n",
    "    \n",
    "    train_length= (int)(len(reviews)*0.9)\n",
    "    x_train     = reviews[:train_length,:]\n",
    "    x_test      = reviews[train_length:,:]\n",
    "    y_train     = ratings[:train_length:,:]\n",
    "    y_test      = ratings[train_length:,:]\n",
    "    \n",
    "    history     = model.fit(x_train, y_train, validation_data=(x_test, y_test), epochs=8, batch_size=128)\n",
    "    \n",
    "    return model,history\n",
    "    "
   ]
  },
  {
   "cell_type": "code",
   "execution_count": 12,
   "metadata": {},
   "outputs": [],
   "source": [
    "def plot(history):  # plotting the learning curve\n",
    "    \n",
    "    #  \"Accuracy\"\n",
    "    plt.plot(history.history['accuracy'])\n",
    "    plt.plot(history.history['val_accuracy'])\n",
    "    plt.title('model accuracy and loss')\n",
    "    plt.ylabel('accuracy')\n",
    "    plt.xlabel('epoch')\n",
    "    plt.legend(['train', 'validation'], loc='upper left')\n",
    "    plt.show()\n",
    "\n",
    "    # \"Loss\"\n",
    "    plt.plot(history.history['loss'])\n",
    "    plt.plot(history.history['val_loss'])\n",
    "    plt.title('model loss')\n",
    "    plt.ylabel('loss')\n",
    "    plt.xlabel('epoch')\n",
    "    plt.legend(['train', 'validation'], loc='upper left')\n",
    "    plt.show()"
   ]
  },
  {
   "cell_type": "code",
   "execution_count": 13,
   "metadata": {},
   "outputs": [
    {
     "name": "stdout",
     "output_type": "stream",
     "text": [
      "Model: \"sequential\"\n",
      "_________________________________________________________________\n",
      "Layer (type)                 Output Shape              Param #   \n",
      "=================================================================\n",
      "embedding (Embedding)        (None, 100, 50)           20000050  \n",
      "_________________________________________________________________\n",
      "rnn (RNN)                    (None, 50)                20200     \n",
      "_________________________________________________________________\n",
      "dense (Dense)                (None, 50)                2550      \n",
      "_________________________________________________________________\n",
      "dropout (Dropout)            (None, 50)                0         \n",
      "_________________________________________________________________\n",
      "dense_1 (Dense)              (None, 1)                 51        \n",
      "=================================================================\n",
      "Total params: 20,022,851\n",
      "Trainable params: 20,022,851\n",
      "Non-trainable params: 0\n",
      "_________________________________________________________________\n",
      "None\n",
      "Epoch 1/8\n",
      "22/22 [==============================] - 8s 373ms/step - loss: 0.6998 - accuracy: 0.5589 - val_loss: 0.6722 - val_accuracy: 0.6733\n",
      "Epoch 2/8\n",
      "22/22 [==============================] - 8s 365ms/step - loss: 0.6533 - accuracy: 0.6722 - val_loss: 0.6064 - val_accuracy: 0.7267\n",
      "Epoch 3/8\n",
      "22/22 [==============================] - 8s 368ms/step - loss: 0.5675 - accuracy: 0.7485 - val_loss: 0.4945 - val_accuracy: 0.7833\n",
      "Epoch 4/8\n",
      "22/22 [==============================] - 8s 361ms/step - loss: 0.4776 - accuracy: 0.8000 - val_loss: 0.4642 - val_accuracy: 0.7933\n",
      "Epoch 5/8\n",
      "22/22 [==============================] - 8s 372ms/step - loss: 0.4183 - accuracy: 0.8348 - val_loss: 0.4903 - val_accuracy: 0.7967\n",
      "Epoch 6/8\n",
      "22/22 [==============================] - 7s 336ms/step - loss: 0.3961 - accuracy: 0.8500 - val_loss: 0.3899 - val_accuracy: 0.8300\n",
      "Epoch 7/8\n",
      "22/22 [==============================] - 7s 307ms/step - loss: 0.3158 - accuracy: 0.8863 - val_loss: 0.3563 - val_accuracy: 0.8467\n",
      "Epoch 8/8\n",
      "22/22 [==============================] - 7s 302ms/step - loss: 0.2729 - accuracy: 0.9056 - val_loss: 0.3528 - val_accuracy: 0.8567\n"
     ]
    },
    {
     "data": {
      "image/png": "[encoded data removed]",
      "text/plain": [
       "<Figure size 432x288 with 1 Axes>"
      ]
     },
     "metadata": {
      "needs_background": "light"
     },
     "output_type": "display_data"
    },
    {
     "data": {
      "image/png": "[encoded data removed]",
      "text/plain": [
       "<Figure size 432x288 with 1 Axes>"
      ]
     },
     "metadata": {
      "needs_background": "light"
     },
     "output_type": "display_data"
    }
   ],
   "source": [
    "model,history = trainModel()\n",
    "plot(history)"
   ]
  },
  {
   "cell_type": "code",
   "execution_count": 14,
   "metadata": {},
   "outputs": [
    {
     "name": "stdout",
     "output_type": "stream",
     "text": [
      "Positive Review \n"
     ]
    }
   ],
   "source": [
    "vocab_word_to_num,vocab_num_to_vector = getVocab('glove.6B.50d.txt',50)\n",
    "\n",
    "review = \"This project was fun\"  # try a custom review\n",
    "review = np.array([review])\n",
    "review = cleanReviews(review,vocab_word_to_num)\n",
    "review = tokenize(review,vocab_word_to_num,100)\n",
    "print(\"Positive Review \" if round(model.predict(review)[0][0],0) else \"Negative Review \")"
   ]
  }
 ],
 "metadata": {
  "kernelspec": {
   "display_name": "Python 3",
   "language": "python",
   "name": "python3"
  },
  "language_info": {
   "codemirror_mode": {
    "name": "ipython",
    "version": 3
   },
   "file_extension": ".py",
   "mimetype": "text/x-python",
   "name": "python",
   "nbconvert_exporter": "python",
   "pygments_lexer": "ipython3",
   "version": "3.8.5"
  }
 },
 "nbformat": 4,
 "nbformat_minor": 4
}
